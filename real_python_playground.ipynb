{
 "cells": [
  {
   "cell_type": "code",
   "execution_count": 1,
   "metadata": {},
   "outputs": [],
   "source": [
    "#examples from real python and random checks\n"
   ]
  },
  {
   "attachments": {},
   "cell_type": "markdown",
   "metadata": {},
   "source": [
    "#examples from real python and random checks"
   ]
  },
  {
   "cell_type": "code",
   "execution_count": 2,
   "metadata": {},
   "outputs": [],
   "source": [
    "uno = 1\n",
    "dos = 3\n",
    "otro = 5\n"
   ]
  },
  {
   "cell_type": "code",
   "execution_count": 3,
   "metadata": {},
   "outputs": [
    {
     "name": "stdout",
     "output_type": "stream",
     "text": [
      "estamos viendo 5 casos de malaria y 1 o 3 casos de fiebre amarilla.\n"
     ]
    }
   ],
   "source": [
    "print(f\"estamos viendo {otro} casos de malaria y {uno} o {dos} casos de fiebre amarilla.\")"
   ]
  },
  {
   "cell_type": "code",
   "execution_count": 4,
   "metadata": {},
   "outputs": [
    {
     "name": "stdout",
     "output_type": "stream",
     "text": [
      "1\n",
      "2\n",
      "3\n",
      "4\n"
     ]
    }
   ],
   "source": [
    "from iterators  import SequenceIterator\n",
    "\n",
    "for item in SequenceIterator([1, 2, 3, 4]):\n",
    "    print(item)"
   ]
  },
  {
   "cell_type": "code",
   "execution_count": 5,
   "metadata": {},
   "outputs": [
    {
     "name": "stdout",
     "output_type": "stream",
     "text": [
      "1\n",
      "2\n",
      "3\n",
      "4\n"
     ]
    }
   ],
   "source": [
    "sequence = SequenceIterator([1, 2, 3, 4])\n",
    "\n",
    "# Get an iterator over the data\n",
    "iterator = sequence.__iter__()\n",
    "while True:\n",
    "    try:\n",
    "        # Retrieve the next item\n",
    "        item = iterator.__next__()\n",
    "    except StopIteration:\n",
    "        break\n",
    "    else:\n",
    "        # The loop's code block goes here...\n",
    "        print(item)"
   ]
  },
  {
   "cell_type": "code",
   "execution_count": 6,
   "metadata": {},
   "outputs": [
    {
     "name": "stdout",
     "output_type": "stream",
     "text": [
      "1\n",
      "4\n",
      "9\n",
      "16\n",
      "25\n"
     ]
    }
   ],
   "source": [
    "from iterators import SquareIterator\n",
    "\n",
    "for square in SquareIterator([1, 2, 3, 4, 5]):\n",
    "    print(square)"
   ]
  },
  {
   "cell_type": "code",
   "execution_count": 7,
   "metadata": {},
   "outputs": [
    {
     "ename": "ModuleNotFoundError",
     "evalue": "No module named 'otro'",
     "output_type": "error",
     "traceback": [
      "\u001b[0;31m---------------------------------------------------------------------------\u001b[0m",
      "\u001b[0;31mModuleNotFoundError\u001b[0m                       Traceback (most recent call last)",
      "\u001b[1;32m/Users/joaquingianantonio/Dropbox/FIUBA/Phyton/Fourth_Brain/gitrepo/playground/real_python_playground.ipynb Cell 8\u001b[0m in \u001b[0;36m<cell line: 1>\u001b[0;34m()\u001b[0m\n\u001b[0;32m----> <a href='vscode-notebook-cell:/Users/joaquingianantonio/Dropbox/FIUBA/Phyton/Fourth_Brain/gitrepo/playground/real_python_playground.ipynb#X10sZmlsZQ%3D%3D?line=0'>1</a>\u001b[0m \u001b[39mfrom\u001b[39;00m \u001b[39motro\u001b[39;00m \u001b[39mimport\u001b[39;00m FibonacciIterator\n\u001b[1;32m      <a href='vscode-notebook-cell:/Users/joaquingianantonio/Dropbox/FIUBA/Phyton/Fourth_Brain/gitrepo/playground/real_python_playground.ipynb#X10sZmlsZQ%3D%3D?line=4'>5</a>\u001b[0m \u001b[39mfor\u001b[39;00m fib_number \u001b[39min\u001b[39;00m FibonacciIterator():\n\u001b[1;32m      <a href='vscode-notebook-cell:/Users/joaquingianantonio/Dropbox/FIUBA/Phyton/Fourth_Brain/gitrepo/playground/real_python_playground.ipynb#X10sZmlsZQ%3D%3D?line=5'>6</a>\u001b[0m     \u001b[39mprint\u001b[39m(fib_number)\n",
      "\u001b[0;31mModuleNotFoundError\u001b[0m: No module named 'otro'"
     ]
    }
   ],
   "source": [
    "from otro import FibonacciIterator\n",
    "\n",
    "\n",
    "\n",
    "for fib_number in FibonacciIterator():\n",
    "    print(fib_number)"
   ]
  },
  {
   "cell_type": "code",
   "execution_count": 8,
   "metadata": {},
   "outputs": [
    {
     "name": "stdout",
     "output_type": "stream",
     "text": [
      "0\n",
      "1\n",
      "1\n",
      "2\n",
      "3\n",
      "5\n",
      "8\n",
      "13\n",
      "21\n",
      "34\n"
     ]
    }
   ],
   "source": [
    "from iterators import FibonacciIterator\n",
    "\n",
    "\n",
    "for fib_number in FibonacciIterator():\n",
    "    print(fib_number)"
   ]
  },
  {
   "cell_type": "code",
   "execution_count": null,
   "metadata": {},
   "outputs": [],
   "source": []
  },
  {
   "cell_type": "code",
   "execution_count": null,
   "metadata": {},
   "outputs": [],
   "source": []
  },
  {
   "cell_type": "code",
   "execution_count": null,
   "metadata": {},
   "outputs": [],
   "source": []
  },
  {
   "cell_type": "code",
   "execution_count": null,
   "metadata": {},
   "outputs": [],
   "source": []
  },
  {
   "cell_type": "code",
   "execution_count": null,
   "metadata": {},
   "outputs": [],
   "source": []
  }
 ],
 "metadata": {
  "kernelspec": {
   "display_name": "Python 3",
   "language": "python",
   "name": "python3"
  },
  "language_info": {
   "codemirror_mode": {
    "name": "ipython",
    "version": 3
   },
   "file_extension": ".py",
   "mimetype": "text/x-python",
   "name": "python",
   "nbconvert_exporter": "python",
   "pygments_lexer": "ipython3",
   "version": "3.8.13"
  },
  "orig_nbformat": 4
 },
 "nbformat": 4,
 "nbformat_minor": 2
}
